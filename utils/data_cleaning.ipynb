{
 "cells": [
  {
   "cell_type": "markdown",
   "id": "2497fe77",
   "metadata": {},
   "source": [
    "# Data Cleaning Pipeline\n",
    "## Created a data screening and cleaning pipeline for raw datasets"
   ]
  },
  {
   "cell_type": "markdown",
   "id": "911289a5",
   "metadata": {},
   "source": [
    "## 0. sample dataset"
   ]
  },
  {
   "cell_type": "code",
   "execution_count": 1,
   "id": "5f94b3a8",
   "metadata": {},
   "outputs": [],
   "source": [
    "# load packages\n",
    "import pandas as pd\n",
    "import numpy as np\n",
    "\n",
    "import arcticdb as adb\n",
    "\n"
   ]
  },
  {
   "cell_type": "markdown",
   "id": "6f258385",
   "metadata": {},
   "source": [
    "Read datasets"
   ]
  },
  {
   "cell_type": "code",
   "execution_count": 2,
   "id": "02005b82",
   "metadata": {},
   "outputs": [
    {
     "name": "stdout",
     "output_type": "stream",
     "text": [
      "<class 'pandas.core.frame.DataFrame'>\n",
      "RangeIndex: 36111 entries, 0 to 36110\n",
      "Data columns (total 9 columns):\n",
      " #   Column        Non-Null Count  Dtype  \n",
      "---  ------        --------------  -----  \n",
      " 0   Unnamed: 0.1  36111 non-null  int64  \n",
      " 1   Unnamed: 0    36111 non-null  int64  \n",
      " 2   Timestamp     36111 non-null  object \n",
      " 3   Open          36111 non-null  float64\n",
      " 4   High          36111 non-null  float64\n",
      " 5   Low           36111 non-null  float64\n",
      " 6   Close         36111 non-null  float64\n",
      " 7   Volume        36111 non-null  float64\n",
      " 8   Avg_price     36111 non-null  float64\n",
      "dtypes: float64(6), int64(2), object(1)\n",
      "memory usage: 2.5+ MB\n"
     ]
    },
    {
     "data": {
      "text/plain": [
       "(   Unnamed: 0.1  Unnamed: 0            Timestamp     Open     High      Low  \\\n",
       " 0       1675787     1675787  2023-07-01 00:00:00  30407.1  30418.2  30407.1   \n",
       " 1       1675788     1675788  2023-07-01 00:01:00  30416.9  30416.9  30392.3   \n",
       " 2       1675789     1675789  2023-07-01 00:02:00  30393.5  30417.3  30393.5   \n",
       " 3       1675790     1675790  2023-07-01 00:03:00  30404.1  30420.8  30404.1   \n",
       " 4       1675791     1675791  2023-07-01 00:04:00  30413.6  30427.2  30413.4   \n",
       " \n",
       "      Close    Volume  Avg_price  \n",
       " 0  30416.9  0.000027   30412.65  \n",
       " 1  30393.2  0.000016   30404.60  \n",
       " 2  30402.2  0.000074   30405.40  \n",
       " 3  30413.4  0.000056   30412.45  \n",
       " 4  30422.8  0.000039   30420.30  ,\n",
       " Unnamed: 0.1    0\n",
       " Unnamed: 0      0\n",
       " Timestamp       0\n",
       " Open            0\n",
       " High            0\n",
       " Low             0\n",
       " Close           0\n",
       " Volume          0\n",
       " Avg_price       0\n",
       " dtype: int64)"
      ]
     },
     "execution_count": 2,
     "metadata": {},
     "output_type": "execute_result"
    }
   ],
   "source": [
    "file_path = '/Users/zway/Desktop/BTC_Project/raw_datasets/raw_sample_2023_07.csv'\n",
    "\n",
    "raw_df = pd.read_csv(file_path)\n",
    "\n",
    "missing_summary = raw_df.isnull().sum()\n",
    "raw_df_info = raw_df.info()\n",
    "\n",
    "raw_df.head(), missing_summary"
   ]
  },
  {
   "cell_type": "markdown",
   "id": "c5babc37",
   "metadata": {},
   "source": [
    "Column 'Unnamed: 0' and 'Unnamed: 0.1' are likely the IDs and they may be duplicated. Examine if they are duplicated, and if yes, drop one and rename the rest as 'ID'"
   ]
  },
  {
   "cell_type": "code",
   "execution_count": 3,
   "id": "6aa9aab4",
   "metadata": {},
   "outputs": [
    {
     "name": "stdout",
     "output_type": "stream",
     "text": [
      "These two columns are identical, renamed the remaining one to id\n"
     ]
    }
   ],
   "source": [
    "if raw_df['Unnamed: 0'].equals(raw_df['Unnamed: 0.1']):\n",
    "    raw_df = raw_df.drop(columns=['Unnamed: 0'])  \n",
    "    raw_df = raw_df.rename(columns={'Unnamed: 0.1': 'id'})\n",
    "    print('These two columns are identical, renamed the remaining one to id')  \n",
    "else:\n",
    "    print('These two columns are not identical.')"
   ]
  },
  {
   "cell_type": "code",
   "execution_count": 4,
   "id": "470a99f5",
   "metadata": {},
   "outputs": [
    {
     "name": "stdout",
     "output_type": "stream",
     "text": [
      "<class 'pandas.core.frame.DataFrame'>\n",
      "RangeIndex: 36111 entries, 0 to 36110\n",
      "Data columns (total 8 columns):\n",
      " #   Column     Non-Null Count  Dtype  \n",
      "---  ------     --------------  -----  \n",
      " 0   id         36111 non-null  int64  \n",
      " 1   Timestamp  36111 non-null  object \n",
      " 2   Open       36111 non-null  float64\n",
      " 3   High       36111 non-null  float64\n",
      " 4   Low        36111 non-null  float64\n",
      " 5   Close      36111 non-null  float64\n",
      " 6   Volume     36111 non-null  float64\n",
      " 7   Avg_price  36111 non-null  float64\n",
      "dtypes: float64(6), int64(1), object(1)\n",
      "memory usage: 2.2+ MB\n"
     ]
    },
    {
     "data": {
      "text/plain": [
       "(None,\n",
       "         id            Timestamp     Open     High      Low    Close    Volume  \\\n",
       " 0  1675787  2023-07-01 00:00:00  30407.1  30418.2  30407.1  30416.9  0.000027   \n",
       " 1  1675788  2023-07-01 00:01:00  30416.9  30416.9  30392.3  30393.2  0.000016   \n",
       " 2  1675789  2023-07-01 00:02:00  30393.5  30417.3  30393.5  30402.2  0.000074   \n",
       " 3  1675790  2023-07-01 00:03:00  30404.1  30420.8  30404.1  30413.4  0.000056   \n",
       " 4  1675791  2023-07-01 00:04:00  30413.6  30427.2  30413.4  30422.8  0.000039   \n",
       " \n",
       "    Avg_price  \n",
       " 0   30412.65  \n",
       " 1   30404.60  \n",
       " 2   30405.40  \n",
       " 3   30412.45  \n",
       " 4   30420.30  )"
      ]
     },
     "execution_count": 4,
     "metadata": {},
     "output_type": "execute_result"
    }
   ],
   "source": [
    "raw_df.info(), raw_df.head()"
   ]
  },
  {
   "cell_type": "markdown",
   "id": "32888a5d",
   "metadata": {},
   "source": [
    "Check duplicate records and inconsistent datetime format"
   ]
  },
  {
   "cell_type": "code",
   "execution_count": 5,
   "id": "4a300a00",
   "metadata": {},
   "outputs": [
    {
     "name": "stdout",
     "output_type": "stream",
     "text": [
      "<class 'pandas.core.frame.DataFrame'>\n",
      "Index: 0 entries\n",
      "Data columns (total 8 columns):\n",
      " #   Column     Non-Null Count  Dtype  \n",
      "---  ------     --------------  -----  \n",
      " 0   id         0 non-null      int64  \n",
      " 1   Timestamp  0 non-null      object \n",
      " 2   Open       0 non-null      float64\n",
      " 3   High       0 non-null      float64\n",
      " 4   Low        0 non-null      float64\n",
      " 5   Close      0 non-null      float64\n",
      " 6   Volume     0 non-null      float64\n",
      " 7   Avg_price  0 non-null      float64\n",
      "dtypes: float64(6), int64(1), object(1)\n",
      "memory usage: 0.0+ bytes\n"
     ]
    },
    {
     "data": {
      "text/plain": [
       "(None,\n",
       " Empty DataFrame\n",
       " Columns: [id, Timestamp, Open, High, Low, Close, Volume, Avg_price]\n",
       " Index: [])"
      ]
     },
     "execution_count": 5,
     "metadata": {},
     "output_type": "execute_result"
    }
   ],
   "source": [
    "duplicate_rows = raw_df[raw_df.duplicated()]\n",
    "\n",
    "duplicate_rows.info(), duplicate_rows.head()\n"
   ]
  },
  {
   "cell_type": "code",
   "execution_count": 6,
   "id": "84cb2e13",
   "metadata": {},
   "outputs": [
    {
     "name": "stdout",
     "output_type": "stream",
     "text": [
      "<class 'pandas.core.frame.DataFrame'>\n",
      "Index: 0 entries\n",
      "Data columns (total 8 columns):\n",
      " #   Column     Non-Null Count  Dtype  \n",
      "---  ------     --------------  -----  \n",
      " 0   id         0 non-null      int64  \n",
      " 1   Timestamp  0 non-null      object \n",
      " 2   Open       0 non-null      float64\n",
      " 3   High       0 non-null      float64\n",
      " 4   Low        0 non-null      float64\n",
      " 5   Close      0 non-null      float64\n",
      " 6   Volume     0 non-null      float64\n",
      " 7   Avg_price  0 non-null      float64\n",
      "dtypes: float64(6), int64(1), object(1)\n",
      "memory usage: 0.0+ bytes\n"
     ]
    },
    {
     "data": {
      "text/plain": [
       "(None,\n",
       " Empty DataFrame\n",
       " Columns: [id, Timestamp, Open, High, Low, Close, Volume, Avg_price]\n",
       " Index: [])"
      ]
     },
     "execution_count": 6,
     "metadata": {},
     "output_type": "execute_result"
    }
   ],
   "source": [
    "timestamp_formats = raw_df[\"Timestamp\"].apply(lambda x: isinstance(x, str) and len(x.strip()) != 0)\n",
    "non_string_timestamps = raw_df[~timestamp_formats]\n",
    "\n",
    "non_string_timestamps.info(), non_string_timestamps.head()"
   ]
  },
  {
   "cell_type": "code",
   "execution_count": 7,
   "id": "767552ec",
   "metadata": {},
   "outputs": [],
   "source": [
    "raw_df['Timestamp'] = pd.to_datetime(raw_df['Timestamp'])"
   ]
  },
  {
   "cell_type": "code",
   "execution_count": 8,
   "id": "74e39962",
   "metadata": {},
   "outputs": [
    {
     "name": "stdout",
     "output_type": "stream",
     "text": [
      "<class 'pandas.core.frame.DataFrame'>\n",
      "RangeIndex: 36111 entries, 0 to 36110\n",
      "Data columns (total 8 columns):\n",
      " #   Column     Non-Null Count  Dtype         \n",
      "---  ------     --------------  -----         \n",
      " 0   id         36111 non-null  int64         \n",
      " 1   Timestamp  36111 non-null  datetime64[ns]\n",
      " 2   Open       36111 non-null  float64       \n",
      " 3   High       36111 non-null  float64       \n",
      " 4   Low        36111 non-null  float64       \n",
      " 5   Close      36111 non-null  float64       \n",
      " 6   Volume     36111 non-null  float64       \n",
      " 7   Avg_price  36111 non-null  float64       \n",
      "dtypes: datetime64[ns](1), float64(6), int64(1)\n",
      "memory usage: 2.2 MB\n"
     ]
    },
    {
     "data": {
      "text/plain": [
       "(None,\n",
       "         id           Timestamp     Open     High      Low    Close    Volume  \\\n",
       " 0  1675787 2023-07-01 00:00:00  30407.1  30418.2  30407.1  30416.9  0.000027   \n",
       " 1  1675788 2023-07-01 00:01:00  30416.9  30416.9  30392.3  30393.2  0.000016   \n",
       " 2  1675789 2023-07-01 00:02:00  30393.5  30417.3  30393.5  30402.2  0.000074   \n",
       " 3  1675790 2023-07-01 00:03:00  30404.1  30420.8  30404.1  30413.4  0.000056   \n",
       " 4  1675791 2023-07-01 00:04:00  30413.6  30427.2  30413.4  30422.8  0.000039   \n",
       " \n",
       "    Avg_price  \n",
       " 0   30412.65  \n",
       " 1   30404.60  \n",
       " 2   30405.40  \n",
       " 3   30412.45  \n",
       " 4   30420.30  )"
      ]
     },
     "execution_count": 8,
     "metadata": {},
     "output_type": "execute_result"
    }
   ],
   "source": [
    "clean_df = raw_df\n",
    "\n",
    "clean_df.info(), clean_df.head()"
   ]
  },
  {
   "cell_type": "markdown",
   "id": "e4c036e4",
   "metadata": {},
   "source": [
    "# Dataset cleaned and save to ArcticDB library"
   ]
  },
  {
   "cell_type": "markdown",
   "id": "df561ebf",
   "metadata": {},
   "source": [
    "Set up ArcticDB path and libraries"
   ]
  },
  {
   "cell_type": "code",
   "execution_count": 9,
   "id": "ca15f886",
   "metadata": {},
   "outputs": [],
   "source": [
    "DB_PATH = '/Users/zway/Desktop/BTC_Project/DB'"
   ]
  },
  {
   "cell_type": "code",
   "execution_count": 10,
   "id": "1bac2d70",
   "metadata": {},
   "outputs": [],
   "source": [
    "# set up ArcticDB\n",
    "ac = adb.Arctic(f\"lmdb://{DB_PATH}\")\n",
    "\n",
    "# Create libraries if not exist\n",
    "if not ac.has_library('cleaned_data'):\n",
    "    ac.create_library(\"cleaned_data\")\n"
   ]
  },
  {
   "cell_type": "code",
   "execution_count": 11,
   "id": "c82fa4b8",
   "metadata": {},
   "outputs": [
    {
     "data": {
      "text/plain": [
       "VersionedItem(symbol='btc_cleaned_sample', library='cleaned_data', data=n/a, version=0, metadata=None, host='LMDB(path=/Users/zway/Desktop/BTC_Project/DB)', timestamp=1747954783591906000)"
      ]
     },
     "execution_count": 11,
     "metadata": {},
     "output_type": "execute_result"
    }
   ],
   "source": [
    "# write clean_df to ArcticDB cleaned library\n",
    "ac[\"cleaned_data\"].write(\"btc_cleaned_sample\", clean_df)"
   ]
  }
 ],
 "metadata": {
  "kernelspec": {
   "display_name": "de_env",
   "language": "python",
   "name": "python3"
  },
  "language_info": {
   "codemirror_mode": {
    "name": "ipython",
    "version": 3
   },
   "file_extension": ".py",
   "mimetype": "text/x-python",
   "name": "python",
   "nbconvert_exporter": "python",
   "pygments_lexer": "ipython3",
   "version": "3.11.8"
  }
 },
 "nbformat": 4,
 "nbformat_minor": 5
}
